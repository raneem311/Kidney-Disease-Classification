{
 "cells": [
  {
   "cell_type": "code",
   "execution_count": 1,
   "id": "043ac294",
   "metadata": {},
   "outputs": [
    {
     "name": "stderr",
     "output_type": "stream",
     "text": [
      "2023-05-21 18:39:14.414918: I tensorflow/core/platform/cpu_feature_guard.cc:182] This TensorFlow binary is optimized to use available CPU instructions in performance-critical operations.\n",
      "To enable the following instructions: AVX2 FMA, in other operations, rebuild TensorFlow with the appropriate compiler flags.\n"
     ]
    }
   ],
   "source": [
    "import tkinter as tk\n",
    "from tkinter import messagebox\n",
    "from tkinter import filedialog\n",
    "import cv2\n",
    "import numpy as np\n",
    "from keras.models import load_model"
   ]
  },
  {
   "cell_type": "code",
   "execution_count": 2,
   "id": "bdb34623",
   "metadata": {},
   "outputs": [],
   "source": [
    "# load the trained model\n",
    "model = load_model('kedney.h5')\n",
    "\n",
    "# define labels\n",
    "labels = ['cyst', 'normal', 'stone', 'tumor']\n",
    "\n",
    "# function to load image and predict\n",
    "def load_image():\n",
    "    file_path = tk.filedialog.askopenfilename()\n",
    "    try:\n",
    "        image = cv2.imread(file_path, cv2.IMREAD_GRAYSCALE)\n",
    "        image = cv2.resize(image, (200, 200))\n",
    "        image = image.reshape((1, 200, 200, 1))\n",
    "        prediction = model.predict(image)[0]\n",
    "        pred_label = labels[np.argmax(prediction)]\n",
    "        messagebox.showinfo('Prediction', 'Prediction: {}'.format(pred_label))\n",
    "    except:\n",
    "        messagebox.showerror('Error', 'Error loading image.')\n"
   ]
  },
  {
   "cell_type": "code",
   "execution_count": 3,
   "id": "aca89ec2",
   "metadata": {},
   "outputs": [
    {
     "name": "stderr",
     "output_type": "stream",
     "text": [
      "[ WARN:0@51.130] global /Users/runner/work/opencv-python/opencv-python/opencv/modules/imgcodecs/src/loadsave.cpp (239) findDecoder imread_(''): can't open/read file: check file path/integrity\n"
     ]
    },
    {
     "name": "stdout",
     "output_type": "stream",
     "text": [
      "1/1 [==============================] - 1s 987ms/step\n",
      "1/1 [==============================] - 0s 47ms/step\n",
      "1/1 [==============================] - 0s 51ms/step\n",
      "1/1 [==============================] - 0s 50ms/step\n"
     ]
    }
   ],
   "source": [
    "# create GUI\n",
    "root = tk.Tk()\n",
    "root.title('Kidney Disease Detection')\n",
    "root.geometry('400x400')\n",
    "btn_load = tk.Button(root, text='Load Image', command=load_image)\n",
    "btn_load.pack(pady=10)\n",
    "root.mainloop()"
   ]
  },
  {
   "cell_type": "code",
   "execution_count": null,
   "id": "e92bd9e4",
   "metadata": {},
   "outputs": [],
   "source": []
  },
  {
   "cell_type": "code",
   "execution_count": null,
   "id": "e6dad8f2",
   "metadata": {},
   "outputs": [],
   "source": []
  }
 ],
 "metadata": {
  "kernelspec": {
   "display_name": "Python 3 (ipykernel)",
   "language": "python",
   "name": "python3"
  },
  "language_info": {
   "codemirror_mode": {
    "name": "ipython",
    "version": 3
   },
   "file_extension": ".py",
   "mimetype": "text/x-python",
   "name": "python",
   "nbconvert_exporter": "python",
   "pygments_lexer": "ipython3",
   "version": "3.9.12"
  }
 },
 "nbformat": 4,
 "nbformat_minor": 5
}
